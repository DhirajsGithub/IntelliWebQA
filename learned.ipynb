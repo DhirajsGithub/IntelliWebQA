{
 "cells": [
  {
   "cell_type": "markdown",
   "id": "7e4712e2",
   "metadata": {},
   "source": [
    "### Text loader"
   ]
  },
  {
   "cell_type": "code",
   "execution_count": null,
   "id": "d3034aef",
   "metadata": {},
   "outputs": [],
   "source": [
    "import nltk\n",
    "\n",
    "# Ensure punkt is downloaded and set data path explicitly\n",
    "nltk.download('punkt', download_dir='./nltk_data')\n",
    "nltk.data.path.append('./nltk_data')\n",
    "\n",
    "from langchain.document_loaders import TextLoader\n",
    "loader = TextLoader('nvda_news_1.txt')\n",
    "data = loader.load()\n",
    "# data[0]\n",
    "# data[0].page_content\n",
    "data[0].metadata\n"
   ]
  },
  {
   "cell_type": "code",
   "execution_count": null,
   "id": "47785e00",
   "metadata": {},
   "outputs": [],
   "source": [
    "from langchain_community.document_loaders.csv_loader import CSVLoader\n",
    "loader = CSVLoader('movies.csv')\n",
    "data = loader.load()\n",
    "# data[0].metadata\n",
    "# data[0].page_content\n",
    "loader = CSVLoader('movies.csv', source_column='title')\n",
    "data[0].metadata\n",
    "len(data)\n"
   ]
  },
  {
   "cell_type": "markdown",
   "id": "f6d0fe32",
   "metadata": {},
   "source": [
    "### Unstructured url loader"
   ]
  },
  {
   "cell_type": "code",
   "execution_count": null,
   "id": "746e62be",
   "metadata": {},
   "outputs": [],
   "source": [
    "# pip3 install unstructured libmagic python-magic python-magic-bin\n",
    "\n",
    "from langchain.document_loaders import WebBaseLoader\n",
    "\n",
    "loader = WebBaseLoader([\n",
    "    \"https://www.moneycontrol.com/news/business/banks/hdfc-bank-re-appoints-sanmoy-chakrabarti-as-chief-risk-officer-11259771.html\",\n",
    "    \"https://www.moneycontrol.com/news/business/markets/market-corrects-post-rbi-ups-inflation-forecast-icrr-bet-on-these-top-10-rate-sensitive-stocks-ideas-11142611.html\"\n",
    "])\n",
    "\n",
    "docs = loader.load()\n",
    "newsContent = docs[0].page_content\n",
    "print(newsContent)\n",
    "\n"
   ]
  },
  {
   "cell_type": "markdown",
   "id": "a594d396",
   "metadata": {},
   "source": [
    "### Text splitters"
   ]
  },
  {
   "cell_type": "code",
   "execution_count": null,
   "id": "613ebb59",
   "metadata": {},
   "outputs": [],
   "source": [
    "from langchain.text_splitter import CharacterTextSplitter\n",
    "\n",
    "splitter = CharacterTextSplitter(\n",
    "    separator='\\n',          # Split on newline characters\n",
    "    chunk_size=200,          # Each chunk is at most 200 characters long\n",
    "    chunk_overlap=0          # No overlapping content between chunks\n",
    "    # Number of characters to overlap between consecutive chunks.\n",
    "    # This helps preserve some context from the end of one chunk into the start of the next.\n",
    "    # Set to 0 for no overlap, or a higher value (e.g., 50) to retain context across chunks.\n",
    ")\n",
    "\n",
    "chunks = splitter.split_text(newsContent)  # `docs` is your input string\n",
    "len(chunks)                         # Returns the number of resulting chunks\n"
   ]
  },
  {
   "cell_type": "markdown",
   "id": "be069fc0",
   "metadata": {},
   "source": [
    "CharacterTextSplitter\n",
    "\n",
    "🔻 Drawbacks of CharacterTextSplitter:\n",
    "- May split in the middle of words or sentences, leading to poor chunk quality.\n",
    "- No language or token awareness, so it can break context or underutilize model capacity.\n",
    "- Not ideal for semantic tasks like summarization or Q&A.\n",
    "\n",
    "✅ Use Cases:\n",
    "- Best for simple, line-separated data (e.g., logs, code).\n",
    "- Useful when you need quick and lightweight splitting without language overhead.\n",
    "- Good for preprocessing short texts where sentence structure isn’t critical."
   ]
  },
  {
   "cell_type": "code",
   "execution_count": null,
   "id": "fcdc0fdc",
   "metadata": {},
   "outputs": [],
   "source": [
    "from langchain.text_splitter import RecursiveCharacterTextSplitter\n",
    "\n",
    "splitter = RecursiveCharacterTextSplitter(\n",
    "    chunk_size=500,\n",
    "    chunk_overlap=50,  # Overlap helps maintain context between chunks\n",
    "    separators=[\"\\n\\n\", \"\\n\", \".\", \"!\", \"?\", \" \", \"\"]  # Tries these in order for best natural splits\n",
    ")\n",
    "\n",
    "chunks = splitter.split_text(newsContent)\n",
    "len(chunks)\n",
    "\n",
    "# Loop to inspect chunk details\n",
    "for i, chunk in enumerate(chunks):\n",
    "    print(f\"--- Chunk {i+1} ---\")\n",
    "    print(f\"Length: {len(chunk)} characters\")\n",
    "    print(chunk)\n",
    "    print()"
   ]
  },
  {
   "cell_type": "markdown",
   "id": "1ba50643",
   "metadata": {},
   "source": [
    "✅ Use Cases of RecursiveCharacterTextSplitter:\n",
    "Text summarization\n",
    "Keeps sentences/paragraphs intact for better model understanding.\n",
    "\n",
    "Question answering over documents\n",
    "Preserves context so questions can refer to nearby sentences.\n",
    "\n",
    "Search + retrieval (RAG)\n",
    "Splits into dense, semantically complete chunks for embedding & retrieval.\n",
    "\n",
    "❌ Drawbacks of RecursiveCharacterTextSplitter:\n",
    "Slower than simple splitters\n",
    "Due to recursive logic and merging steps.\n",
    "\n",
    "Uneven chunk sizes\n",
    "Chunks can vary depending on where natural breaks occur.\n",
    "\n",
    "Not ideal for structured/tabular text\n",
    "Like logs or code where natural language structure isn’t relevant."
   ]
  },
  {
   "cell_type": "markdown",
   "id": "699cf7c4",
   "metadata": {},
   "source": [
    "**Merging** is the process of recombining small fragments (after splitting) into meaningful chunks that meet a certain chunk_size while preserving natural structure (like paragraphs or sentences).\n",
    "\n",
    "✅ Why it matters:\n",
    "When using splitters like RecursiveCharacterTextSplitter, it:\n",
    "Splits using natural boundaries (like \\n\\n, ., , etc.)\n",
    "Then merges smaller pieces back together into chunks up to chunk_size with optional chunk_overlap.\n",
    "\n"
   ]
  }
 ],
 "metadata": {
  "kernelspec": {
   "display_name": "news_research_tool",
   "language": "python",
   "name": "python3"
  },
  "language_info": {
   "codemirror_mode": {
    "name": "ipython",
    "version": 3
   },
   "file_extension": ".py",
   "mimetype": "text/x-python",
   "name": "python",
   "nbconvert_exporter": "python",
   "pygments_lexer": "ipython3",
   "version": "3.13.1"
  }
 },
 "nbformat": 4,
 "nbformat_minor": 5
}
