{
 "cells": [
  {
   "cell_type": "code",
   "execution_count": null,
   "id": "f0063150",
   "metadata": {},
   "outputs": [],
   "source": [
    "# necessary libraries import\n"
   ]
  }
 ],
 "metadata": {
  "language_info": {
   "name": "python"
  }
 },
 "nbformat": 4,
 "nbformat_minor": 5
}
